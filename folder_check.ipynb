{
  "nbformat": 4,
  "nbformat_minor": 0,
  "metadata": {
    "colab": {
      "provenance": [],
      "mount_file_id": "1OVbwSt0MCvarEJYHCQCQfCgKmq0LtrTe",
      "authorship_tag": "ABX9TyOiL0qJtM4V1SpQ8Ov9pIL8"
    },
    "kernelspec": {
      "name": "python3",
      "display_name": "Python 3"
    },
    "language_info": {
      "name": "python"
    }
  },
  "cells": [
    {
      "cell_type": "code",
      "execution_count": 1,
      "metadata": {
        "colab": {
          "base_uri": "https://localhost:8080/",
          "height": 53
        },
        "id": "WsqvwlLSEZGY",
        "outputId": "e2a74853-f6fd-47a1-cc6d-2ea66770fa2e"
      },
      "outputs": [
        {
          "output_type": "execute_result",
          "data": {
            "text/plain": [
              "'\\n\\nCHECK FOLDER SIZE ND CONTENTS\\n\\nAUGMENTED DATA CHECK SCRIPT\\n\\n1. MOUNT DRIVE\\n2. PASTE FOLDER LINK\\n3. RUN CELL\\n\\n\\n'"
            ],
            "application/vnd.google.colaboratory.intrinsic+json": {
              "type": "string"
            }
          },
          "metadata": {},
          "execution_count": 1
        }
      ],
      "source": [
        "\"\"\"\n",
        "\n",
        "CHECK FOLDER SIZE ND CONTENTS\n",
        "\n",
        "AUGMENTED DATA CHECK SCRIPT\n",
        "\n",
        "1. MOUNT DRIVE\n",
        "2. PASTE FOLDER LINK\n",
        "3. RUN CELL\n",
        "\n",
        "\n",
        "\"\"\""
      ]
    },
    {
      "cell_type": "code",
      "source": [],
      "metadata": {
        "id": "wnEocYM6EqQo"
      },
      "execution_count": null,
      "outputs": []
    },
    {
      "cell_type": "code",
      "source": [
        "#IMPORT LIBRARIES\n",
        "import os\n",
        "from pathlib import Path\n",
        "\n",
        "#ACCESS FOLDER\n",
        "def get_folder_info(folder_path):\n",
        "    # Initialize counters\n",
        "    num_files = 0\n",
        "    total_size = 0\n",
        "\n",
        "    # Walk through the folder\n",
        "    for dirpath, dirnames, filenames in os.walk(folder_path):\n",
        "        for f in filenames:\n",
        "            fp = os.path.join(dirpath, f)\n",
        "            # Skip if it is symbolic link\n",
        "            if not os.path.islink(fp):\n",
        "                num_files += 1\n",
        "                total_size += os.path.getsize(fp)\n",
        "\n",
        "    return num_files, total_size\n",
        "\n",
        "#CHECK FOLDER\n",
        "def main():\n",
        "    base_folder_path = '/content/drive/MyDrive/HOTSM_madakixo/Task0201_Augmentation/augmented_data'\n",
        "    for folder_name in os.listdir(base_folder_path):\n",
        "        folder_path = os.path.join(base_folder_path, folder_name)\n",
        "        num_files, total_size = get_folder_info(folder_path)\n",
        "        print(f'Folder: {folder_name}')\n",
        "        print(f'Number of files: {num_files}')\n",
        "        print(f'Total size: {total_size / (1024*1024):.2f} MB')\n",
        "\n",
        "if __name__ == '__main__':\n",
        "    main()\n"
      ],
      "metadata": {
        "colab": {
          "base_uri": "https://localhost:8080/"
        },
        "id": "scJNOoGQEk_q",
        "outputId": "ce7f7367-7c0f-447d-bc04-99d72d9a7b61"
      },
      "execution_count": 2,
      "outputs": [
        {
          "output_type": "stream",
          "name": "stdout",
          "text": [
            "Folder: training_364 \n",
            "Number of files: 1596\n",
            "Total size: 300.06 MB\n",
            "Folder: training_386\n",
            "Number of files: 672\n",
            "Total size: 126.34 MB\n",
            "Folder: training_389\n",
            "Number of files: 1620\n",
            "Total size: 304.57 MB\n",
            "Folder: training_397\n",
            "Number of files: 3024\n",
            "Total size: 568.53 MB\n",
            "Folder: training_399\n",
            "Number of files: 1176\n",
            "Total size: 221.10 MB\n",
            "Folder: training_404\n",
            "Number of files: 1696\n",
            "Total size: 318.86 MB\n",
            "Folder: training_403\n",
            "Number of files: 672\n",
            "Total size: 126.34 MB\n",
            "Folder: training_385\n",
            "Number of files: 2184\n",
            "Total size: 410.61 MB\n"
          ]
        }
      ]
    }
  ]
}