{
  "nbformat": 4,
  "nbformat_minor": 0,
  "metadata": {
    "colab": {
      "provenance": []
    },
    "kernelspec": {
      "name": "python3",
      "display_name": "Python 3"
    },
    "language_info": {
      "name": "python"
    }
  },
  "cells": [
    {
      "cell_type": "markdown",
      "source": [
        "augmentations 1"
      ],
      "metadata": {
        "id": "ECwZQ83dP-et"
      }
    },
    {
      "cell_type": "markdown",
      "source": [
        "how to use this notebook\n",
        "\n",
        "1. mount drive\n",
        "2. install raserio\n",
        "3. run script\n",
        "4. check new folder\n",
        "5. confirm directory\n",
        "link to data [HOTOSM Datasets](https://drive.google.com/drive/folders/1jK4ua8xNxsEB4ArK6GbmsnPoEj3KBrJU?usp=drive_link)"
      ],
      "metadata": {
        "id": "I9ZRdFVXbtyf"
      }
    },
    {
      "cell_type": "code",
      "source": [
        "from google.colab import drive\n",
        "drive.mount('/content/drive')"
      ],
      "metadata": {
        "colab": {
          "base_uri": "https://localhost:8080/"
        },
        "id": "zrndmrOdYoHf",
        "outputId": "8be38db1-9c05-4e18-e427-8549306d66bf"
      },
      "execution_count": 1,
      "outputs": [
        {
          "output_type": "stream",
          "name": "stdout",
          "text": [
            "Mounted at /content/drive\n"
          ]
        }
      ]
    },
    {
      "cell_type": "code",
      "source": [],
      "metadata": {
        "id": "C7NtF9UjRS1j"
      },
      "execution_count": null,
      "outputs": []
    },
    {
      "cell_type": "code",
      "source": [],
      "metadata": {
        "id": "AGunRH-ngEWR"
      },
      "execution_count": null,
      "outputs": []
    },
    {
      "cell_type": "code",
      "source": [
        "!pip install rasterio"
      ],
      "metadata": {
        "colab": {
          "base_uri": "https://localhost:8080/"
        },
        "id": "INmRi1h3_7Yi",
        "outputId": "cb8c9384-bbe3-4fd3-a774-78e68c502b23"
      },
      "execution_count": 2,
      "outputs": [
        {
          "output_type": "stream",
          "name": "stdout",
          "text": [
            "Collecting rasterio\n",
            "  Downloading rasterio-1.3.10-cp310-cp310-manylinux2014_x86_64.whl (21.5 MB)\n",
            "\u001b[2K     \u001b[90m━━━━━━━━━━━━━━━━━━━━━━━━━━━━━━━━━━━━━━━━\u001b[0m \u001b[32m21.5/21.5 MB\u001b[0m \u001b[31m50.7 MB/s\u001b[0m eta \u001b[36m0:00:00\u001b[0m\n",
            "\u001b[?25hCollecting affine (from rasterio)\n",
            "  Downloading affine-2.4.0-py3-none-any.whl (15 kB)\n",
            "Requirement already satisfied: attrs in /usr/local/lib/python3.10/dist-packages (from rasterio) (23.2.0)\n",
            "Requirement already satisfied: certifi in /usr/local/lib/python3.10/dist-packages (from rasterio) (2024.2.2)\n",
            "Requirement already satisfied: click>=4.0 in /usr/local/lib/python3.10/dist-packages (from rasterio) (8.1.7)\n",
            "Requirement already satisfied: cligj>=0.5 in /usr/local/lib/python3.10/dist-packages (from rasterio) (0.7.2)\n",
            "Requirement already satisfied: numpy in /usr/local/lib/python3.10/dist-packages (from rasterio) (1.25.2)\n",
            "Collecting snuggs>=1.4.1 (from rasterio)\n",
            "  Downloading snuggs-1.4.7-py3-none-any.whl (5.4 kB)\n",
            "Requirement already satisfied: click-plugins in /usr/local/lib/python3.10/dist-packages (from rasterio) (1.1.1)\n",
            "Requirement already satisfied: setuptools in /usr/local/lib/python3.10/dist-packages (from rasterio) (67.7.2)\n",
            "Requirement already satisfied: pyparsing>=2.1.6 in /usr/local/lib/python3.10/dist-packages (from snuggs>=1.4.1->rasterio) (3.1.2)\n",
            "Installing collected packages: snuggs, affine, rasterio\n",
            "Successfully installed affine-2.4.0 rasterio-1.3.10 snuggs-1.4.7\n"
          ]
        }
      ]
    },
    {
      "cell_type": "code",
      "source": [
        "import albumentations as A\n",
        "import rasterio\n",
        "import os\n",
        "\n",
        "# Define your augmentations\n",
        "transform = A.Compose([\n",
        "    A.HorizontalFlip(p=0.5),\n",
        "    A.VerticalFlip(p=0.5),\n",
        "    A.Rotate(limit=30, p=0.5),\n",
        "    A.GaussNoise(p=0.5),\n",
        "    A.RandomBrightnessContrast(p=0.4),\n",
        "])\n",
        "\n",
        "# Specify the directory containing the images\n",
        "image_dir = '/content/drive/MyDrive/HOTSM_madakixo/augmented_data/Task0201_Augmentation/training_399 (1)/preprocessed/chips'\n",
        "output_base_dir = '/content/drive/MyDrive/HOTSM_madakixo/augmented_data/training_385'\n",
        "\n",
        "# Create directories for the augmented images\n",
        "os.makedirs(os.path.join(output_base_dir, 'flipped'), exist_ok=True)\n",
        "os.makedirs(os.path.join(output_base_dir, 'rotated'), exist_ok=True)\n",
        "os.makedirs(os.path.join(output_base_dir, 'noised'), exist_ok=True)\n",
        "\n",
        "# Loop over the images in the directory\n",
        "for filename in os.listdir(image_dir):\n",
        "    if filename.endswith('.tif'):\n",
        "        with rasterio.open(os.path.join(image_dir, filename)) as src:\n",
        "            image = src.read()\n",
        "\n",
        "        # Apply transformations\n",
        "        flipped_h = transform(image=image)['image']\n",
        "        flipped_v = transform(image=image)['image']\n",
        "        rotated = transform(image=image)['image']\n",
        "        noised = transform(image=image)['image']\n",
        "\n",
        "        # Save the augmented images (rasterio)\n",
        "        with rasterio.open(\n",
        "            os.path.join(output_base_dir, 'flipped', f'{filename[:-4]}_flipped_h.tif'),\n",
        "            'w',\n",
        "            **src.meta  # Retain metadata\n",
        "        ) as dst:\n",
        "            dst.write(flipped_h)\n",
        "\n",
        "        with rasterio.open(\n",
        "            os.path.join(output_base_dir, 'flipped', f'{filename[:-4]}_flipped_v.tif'),\n",
        "            'w',\n",
        "            **src.meta\n",
        "        ) as dst:\n",
        "            dst.write(flipped_v)\n",
        "\n",
        "        with rasterio.open(\n",
        "            os.path.join(output_base_dir, 'rotated', f'{filename[:-4]}_rotated.tif'),\n",
        "            'w',\n",
        "            **src.meta\n",
        "        ) as dst:\n",
        "            dst.write(rotated)\n",
        "\n",
        "        with rasterio.open(\n",
        "            os.path.join(output_base_dir, 'noised', f'{filename[:-4]}_noised.tif'),\n",
        "            'w',\n",
        "            **src.meta\n",
        "        ) as dst:\n",
        "            dst.write(noised)\n"
      ],
      "metadata": {
        "id": "dewWLgKpRS5y"
      },
      "execution_count": 14,
      "outputs": []
    },
    {
      "cell_type": "code",
      "source": [
        "!# size of flipped_v, flipped_h\n",
        "\n",
        "print(f\"Flipped horizontally: {flipped_h.shape}\")\n",
        "print(f\"Flipped vertically: {flipped_v.shape}\")\n"
      ],
      "metadata": {
        "id": "-rO_rrUdRS92",
        "colab": {
          "base_uri": "https://localhost:8080/"
        },
        "outputId": "d28b11ba-030b-49d0-e54c-1c6519f82b4b"
      },
      "execution_count": 12,
      "outputs": [
        {
          "output_type": "stream",
          "name": "stdout",
          "text": [
            "Flipped horizontally: (3, 256, 256)\n",
            "Flipped vertically: (3, 256, 256)\n"
          ]
        }
      ]
    },
    {
      "cell_type": "code",
      "source": [
        "# size of noised,  rotated and image_dir\n",
        "\n",
        "print(f\"Noised image shape: {noised.shape}\")\n",
        "print(f\"Rotated image shape: {rotated.shape}\")\n",
        "print(f\"Image directory path: {image_dir}\")\n"
      ],
      "metadata": {
        "id": "qFev5hMPRTCI",
        "colab": {
          "base_uri": "https://localhost:8080/"
        },
        "outputId": "e2703de8-ef61-4a9e-d579-5e0a46a9f826"
      },
      "execution_count": 13,
      "outputs": [
        {
          "output_type": "stream",
          "name": "stdout",
          "text": [
            "Noised image shape: (3, 256, 256)\n",
            "Rotated image shape: (3, 256, 256)\n",
            "Image directory path: /content/drive/MyDrive/HOTSM_madakixo/augmented_data/Task0201_Augmentation/training_399 (1)/preprocessed/chips\n"
          ]
        }
      ]
    },
    {
      "cell_type": "code",
      "source": [],
      "metadata": {
        "id": "77Dr05n_RTGF"
      },
      "execution_count": null,
      "outputs": []
    },
    {
      "cell_type": "code",
      "source": [
        "import cv2\n",
        "\n",
        "#...Inside your augmentation loop ...\n",
        "def add_fog(image, intensity=0.3):\n",
        "    overlay = image.copy()\n",
        "    overlay[:] = [200, 200, 200]  # Grayish fog color\n",
        "    foggy_image = cv2.addWeighted(overlay, intensity, image, 1 - intensity, 0)\n",
        "    return foggy_image\n",
        "\n",
        "# ... Apply fog\n",
        "foggy = add_fog(image, intensity=0.4)  # Adjust intensity\n"
      ],
      "metadata": {
        "id": "PrUyN8dph0Qf"
      },
      "execution_count": null,
      "outputs": []
    },
    {
      "cell_type": "code",
      "source": [],
      "metadata": {
        "id": "tC5O_noAh0im"
      },
      "execution_count": null,
      "outputs": []
    },
    {
      "cell_type": "code",
      "source": [],
      "metadata": {
        "id": "la4RUCOoh0yi"
      },
      "execution_count": null,
      "outputs": []
    }
  ]
}